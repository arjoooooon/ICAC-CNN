{
 "cells": [
  {
   "cell_type": "code",
   "execution_count": 1,
   "metadata": {},
   "outputs": [],
   "source": [
    "#requirements\n",
    "import numpy as np \n",
    "import pandas as pd\n",
    "from IPython.display import display\n",
    "import matplotlib.pyplot as plt \n",
    "from matplotlib import dates as d"
   ]
  },
  {
   "cell_type": "code",
   "execution_count": 2,
   "metadata": {},
   "outputs": [],
   "source": [
    "filepath = \"data.csv\""
   ]
  },
  {
   "cell_type": "markdown",
   "metadata": {},
   "source": [
    "Load dataset"
   ]
  },
  {
   "cell_type": "code",
   "execution_count": 4,
   "metadata": {},
   "outputs": [],
   "source": [
    "data_df = pd.read_csv('data.csv', parse_dates=True)\n",
    "data_df \n",
    "\n",
    "\n",
    "\n",
    "\n",
    "data_df['year'] = pd.DatetimeIndex(data_df ['datetime']).year\n",
    "data_df['month'] = pd.DatetimeIndex(data_df['datetime']).month\n",
    "data_df['day'] = pd.DatetimeIndex(data_df['datetime']).day\n",
    "data_df['hour'] = pd.DatetimeIndex(data_df['datetime']).hour\n",
    "\n"
   ]
  },
  {
   "cell_type": "markdown",
   "metadata": {},
   "source": [
    "Rearrange to have ozone at the end "
   ]
  },
  {
   "cell_type": "code",
   "execution_count": 5,
   "metadata": {},
   "outputs": [
    {
     "data": {
      "text/html": [
       "<div>\n",
       "<style scoped>\n",
       "    .dataframe tbody tr th:only-of-type {\n",
       "        vertical-align: middle;\n",
       "    }\n",
       "\n",
       "    .dataframe tbody tr th {\n",
       "        vertical-align: top;\n",
       "    }\n",
       "\n",
       "    .dataframe thead th {\n",
       "        text-align: right;\n",
       "    }\n",
       "</style>\n",
       "<table border=\"1\" class=\"dataframe\">\n",
       "  <thead>\n",
       "    <tr style=\"text-align: right;\">\n",
       "      <th></th>\n",
       "      <th>datetime</th>\n",
       "      <th>Carbon monoxide</th>\n",
       "      <th>Nitrogen dioxide (NO2)</th>\n",
       "      <th>PM2.5 - Local Conditions</th>\n",
       "      <th>Wind Direction - Resultant</th>\n",
       "      <th>Wind Speed - Resultant</th>\n",
       "      <th>Outdoor Temperature</th>\n",
       "      <th>Relative Humidity</th>\n",
       "      <th>Solar radiation</th>\n",
       "      <th>Ultraviolet radiation</th>\n",
       "      <th>Barometric pressure</th>\n",
       "      <th>latitude</th>\n",
       "      <th>longitude</th>\n",
       "      <th>year</th>\n",
       "      <th>month</th>\n",
       "      <th>day</th>\n",
       "      <th>hour</th>\n",
       "      <th>Ozone</th>\n",
       "    </tr>\n",
       "  </thead>\n",
       "  <tbody>\n",
       "    <tr>\n",
       "      <th>0</th>\n",
       "      <td>2018-01-01 00:00:00</td>\n",
       "      <td>1.4490</td>\n",
       "      <td>27.2</td>\n",
       "      <td>61.4</td>\n",
       "      <td>49.0</td>\n",
       "      <td>3.2</td>\n",
       "      <td>51.8</td>\n",
       "      <td>87.0</td>\n",
       "      <td>0.0</td>\n",
       "      <td>0.0</td>\n",
       "      <td>1009.0</td>\n",
       "      <td>34.06659</td>\n",
       "      <td>-118.22688</td>\n",
       "      <td>2018</td>\n",
       "      <td>1</td>\n",
       "      <td>1</td>\n",
       "      <td>0</td>\n",
       "      <td>0.002</td>\n",
       "    </tr>\n",
       "    <tr>\n",
       "      <th>1</th>\n",
       "      <td>2018-01-01 01:00:00</td>\n",
       "      <td>1.5300</td>\n",
       "      <td>27.8</td>\n",
       "      <td>NaN</td>\n",
       "      <td>35.0</td>\n",
       "      <td>2.9</td>\n",
       "      <td>51.4</td>\n",
       "      <td>84.0</td>\n",
       "      <td>0.0</td>\n",
       "      <td>0.0</td>\n",
       "      <td>1009.0</td>\n",
       "      <td>34.06659</td>\n",
       "      <td>-118.22688</td>\n",
       "      <td>2018</td>\n",
       "      <td>1</td>\n",
       "      <td>1</td>\n",
       "      <td>1</td>\n",
       "      <td>0.001</td>\n",
       "    </tr>\n",
       "    <tr>\n",
       "      <th>2</th>\n",
       "      <td>2018-01-01 02:00:00</td>\n",
       "      <td>1.4680</td>\n",
       "      <td>27.9</td>\n",
       "      <td>NaN</td>\n",
       "      <td>43.0</td>\n",
       "      <td>3.8</td>\n",
       "      <td>50.9</td>\n",
       "      <td>81.0</td>\n",
       "      <td>0.0</td>\n",
       "      <td>0.0</td>\n",
       "      <td>1009.0</td>\n",
       "      <td>34.06659</td>\n",
       "      <td>-118.22688</td>\n",
       "      <td>2018</td>\n",
       "      <td>1</td>\n",
       "      <td>1</td>\n",
       "      <td>2</td>\n",
       "      <td>0.002</td>\n",
       "    </tr>\n",
       "    <tr>\n",
       "      <th>3</th>\n",
       "      <td>2018-01-01 03:00:00</td>\n",
       "      <td>1.4590</td>\n",
       "      <td>28.7</td>\n",
       "      <td>NaN</td>\n",
       "      <td>38.0</td>\n",
       "      <td>3.9</td>\n",
       "      <td>50.3</td>\n",
       "      <td>81.0</td>\n",
       "      <td>0.0</td>\n",
       "      <td>0.0</td>\n",
       "      <td>1009.0</td>\n",
       "      <td>34.06659</td>\n",
       "      <td>-118.22688</td>\n",
       "      <td>2018</td>\n",
       "      <td>1</td>\n",
       "      <td>1</td>\n",
       "      <td>3</td>\n",
       "      <td>0.001</td>\n",
       "    </tr>\n",
       "    <tr>\n",
       "      <th>4</th>\n",
       "      <td>2018-01-01 04:00:00</td>\n",
       "      <td>1.4395</td>\n",
       "      <td>27.9</td>\n",
       "      <td>NaN</td>\n",
       "      <td>36.0</td>\n",
       "      <td>4.2</td>\n",
       "      <td>49.5</td>\n",
       "      <td>79.0</td>\n",
       "      <td>0.0</td>\n",
       "      <td>0.0</td>\n",
       "      <td>1009.0</td>\n",
       "      <td>34.06659</td>\n",
       "      <td>-118.22688</td>\n",
       "      <td>2018</td>\n",
       "      <td>1</td>\n",
       "      <td>1</td>\n",
       "      <td>4</td>\n",
       "      <td>0.002</td>\n",
       "    </tr>\n",
       "    <tr>\n",
       "      <th>...</th>\n",
       "      <td>...</td>\n",
       "      <td>...</td>\n",
       "      <td>...</td>\n",
       "      <td>...</td>\n",
       "      <td>...</td>\n",
       "      <td>...</td>\n",
       "      <td>...</td>\n",
       "      <td>...</td>\n",
       "      <td>...</td>\n",
       "      <td>...</td>\n",
       "      <td>...</td>\n",
       "      <td>...</td>\n",
       "      <td>...</td>\n",
       "      <td>...</td>\n",
       "      <td>...</td>\n",
       "      <td>...</td>\n",
       "      <td>...</td>\n",
       "      <td>...</td>\n",
       "    </tr>\n",
       "    <tr>\n",
       "      <th>8755</th>\n",
       "      <td>2018-12-31 19:00:00</td>\n",
       "      <td>0.6230</td>\n",
       "      <td>32.4</td>\n",
       "      <td>NaN</td>\n",
       "      <td>32.0</td>\n",
       "      <td>1.8</td>\n",
       "      <td>55.4</td>\n",
       "      <td>15.0</td>\n",
       "      <td>0.0</td>\n",
       "      <td>0.0</td>\n",
       "      <td>999.0</td>\n",
       "      <td>34.06659</td>\n",
       "      <td>-118.22688</td>\n",
       "      <td>2018</td>\n",
       "      <td>12</td>\n",
       "      <td>31</td>\n",
       "      <td>19</td>\n",
       "      <td>0.007</td>\n",
       "    </tr>\n",
       "    <tr>\n",
       "      <th>8756</th>\n",
       "      <td>2018-12-31 20:00:00</td>\n",
       "      <td>0.8230</td>\n",
       "      <td>34.0</td>\n",
       "      <td>NaN</td>\n",
       "      <td>25.0</td>\n",
       "      <td>2.0</td>\n",
       "      <td>52.4</td>\n",
       "      <td>19.0</td>\n",
       "      <td>0.0</td>\n",
       "      <td>0.0</td>\n",
       "      <td>1000.0</td>\n",
       "      <td>34.06659</td>\n",
       "      <td>-118.22688</td>\n",
       "      <td>2018</td>\n",
       "      <td>12</td>\n",
       "      <td>31</td>\n",
       "      <td>20</td>\n",
       "      <td>0.003</td>\n",
       "    </tr>\n",
       "    <tr>\n",
       "      <th>8757</th>\n",
       "      <td>2018-12-31 21:00:00</td>\n",
       "      <td>0.7425</td>\n",
       "      <td>31.7</td>\n",
       "      <td>NaN</td>\n",
       "      <td>30.0</td>\n",
       "      <td>2.3</td>\n",
       "      <td>51.7</td>\n",
       "      <td>18.0</td>\n",
       "      <td>0.0</td>\n",
       "      <td>0.0</td>\n",
       "      <td>1001.0</td>\n",
       "      <td>34.06659</td>\n",
       "      <td>-118.22688</td>\n",
       "      <td>2018</td>\n",
       "      <td>12</td>\n",
       "      <td>31</td>\n",
       "      <td>21</td>\n",
       "      <td>0.005</td>\n",
       "    </tr>\n",
       "    <tr>\n",
       "      <th>8758</th>\n",
       "      <td>2018-12-31 22:00:00</td>\n",
       "      <td>0.3305</td>\n",
       "      <td>7.8</td>\n",
       "      <td>NaN</td>\n",
       "      <td>48.0</td>\n",
       "      <td>2.3</td>\n",
       "      <td>53.7</td>\n",
       "      <td>12.0</td>\n",
       "      <td>0.0</td>\n",
       "      <td>0.0</td>\n",
       "      <td>1002.0</td>\n",
       "      <td>34.06659</td>\n",
       "      <td>-118.22688</td>\n",
       "      <td>2018</td>\n",
       "      <td>12</td>\n",
       "      <td>31</td>\n",
       "      <td>22</td>\n",
       "      <td>0.030</td>\n",
       "    </tr>\n",
       "    <tr>\n",
       "      <th>8759</th>\n",
       "      <td>2018-12-31 23:00:00</td>\n",
       "      <td>0.4525</td>\n",
       "      <td>16.6</td>\n",
       "      <td>NaN</td>\n",
       "      <td>19.0</td>\n",
       "      <td>1.3</td>\n",
       "      <td>51.2</td>\n",
       "      <td>15.0</td>\n",
       "      <td>0.0</td>\n",
       "      <td>0.0</td>\n",
       "      <td>1002.0</td>\n",
       "      <td>34.06659</td>\n",
       "      <td>-118.22688</td>\n",
       "      <td>2018</td>\n",
       "      <td>12</td>\n",
       "      <td>31</td>\n",
       "      <td>23</td>\n",
       "      <td>0.019</td>\n",
       "    </tr>\n",
       "  </tbody>\n",
       "</table>\n",
       "<p>8760 rows × 18 columns</p>\n",
       "</div>"
      ],
      "text/plain": [
       "                 datetime  Carbon monoxide  Nitrogen dioxide (NO2)  \\\n",
       "0     2018-01-01 00:00:00           1.4490                    27.2   \n",
       "1     2018-01-01 01:00:00           1.5300                    27.8   \n",
       "2     2018-01-01 02:00:00           1.4680                    27.9   \n",
       "3     2018-01-01 03:00:00           1.4590                    28.7   \n",
       "4     2018-01-01 04:00:00           1.4395                    27.9   \n",
       "...                   ...              ...                     ...   \n",
       "8755  2018-12-31 19:00:00           0.6230                    32.4   \n",
       "8756  2018-12-31 20:00:00           0.8230                    34.0   \n",
       "8757  2018-12-31 21:00:00           0.7425                    31.7   \n",
       "8758  2018-12-31 22:00:00           0.3305                     7.8   \n",
       "8759  2018-12-31 23:00:00           0.4525                    16.6   \n",
       "\n",
       "      PM2.5 - Local Conditions  Wind Direction - Resultant  \\\n",
       "0                         61.4                        49.0   \n",
       "1                          NaN                        35.0   \n",
       "2                          NaN                        43.0   \n",
       "3                          NaN                        38.0   \n",
       "4                          NaN                        36.0   \n",
       "...                        ...                         ...   \n",
       "8755                       NaN                        32.0   \n",
       "8756                       NaN                        25.0   \n",
       "8757                       NaN                        30.0   \n",
       "8758                       NaN                        48.0   \n",
       "8759                       NaN                        19.0   \n",
       "\n",
       "      Wind Speed - Resultant  Outdoor Temperature  Relative Humidity   \\\n",
       "0                        3.2                 51.8                87.0   \n",
       "1                        2.9                 51.4                84.0   \n",
       "2                        3.8                 50.9                81.0   \n",
       "3                        3.9                 50.3                81.0   \n",
       "4                        4.2                 49.5                79.0   \n",
       "...                      ...                  ...                 ...   \n",
       "8755                     1.8                 55.4                15.0   \n",
       "8756                     2.0                 52.4                19.0   \n",
       "8757                     2.3                 51.7                18.0   \n",
       "8758                     2.3                 53.7                12.0   \n",
       "8759                     1.3                 51.2                15.0   \n",
       "\n",
       "      Solar radiation  Ultraviolet radiation  Barometric pressure  latitude  \\\n",
       "0                 0.0                    0.0               1009.0  34.06659   \n",
       "1                 0.0                    0.0               1009.0  34.06659   \n",
       "2                 0.0                    0.0               1009.0  34.06659   \n",
       "3                 0.0                    0.0               1009.0  34.06659   \n",
       "4                 0.0                    0.0               1009.0  34.06659   \n",
       "...               ...                    ...                  ...       ...   \n",
       "8755              0.0                    0.0                999.0  34.06659   \n",
       "8756              0.0                    0.0               1000.0  34.06659   \n",
       "8757              0.0                    0.0               1001.0  34.06659   \n",
       "8758              0.0                    0.0               1002.0  34.06659   \n",
       "8759              0.0                    0.0               1002.0  34.06659   \n",
       "\n",
       "      longitude  year  month  day  hour  Ozone  \n",
       "0    -118.22688  2018      1    1     0  0.002  \n",
       "1    -118.22688  2018      1    1     1  0.001  \n",
       "2    -118.22688  2018      1    1     2  0.002  \n",
       "3    -118.22688  2018      1    1     3  0.001  \n",
       "4    -118.22688  2018      1    1     4  0.002  \n",
       "...         ...   ...    ...  ...   ...    ...  \n",
       "8755 -118.22688  2018     12   31    19  0.007  \n",
       "8756 -118.22688  2018     12   31    20  0.003  \n",
       "8757 -118.22688  2018     12   31    21  0.005  \n",
       "8758 -118.22688  2018     12   31    22  0.030  \n",
       "8759 -118.22688  2018     12   31    23  0.019  \n",
       "\n",
       "[8760 rows x 18 columns]"
      ]
     },
     "execution_count": 5,
     "metadata": {},
     "output_type": "execute_result"
    }
   ],
   "source": [
    "data_df_list = data_df.columns.tolist()\n",
    "new_cols=  data_df_list[0:3] + data_df_list[4:] + data_df_list[3:4]\n",
    "data_df_sorted =data_df[new_cols]\n",
    "\n",
    "data_df_sorted"
   ]
  },
  {
   "cell_type": "markdown",
   "metadata": {},
   "source": [
    "need to figure out what to do with na's still; contradicting information from various sources; currently dropping pm2.5 because too many nan's"
   ]
  },
  {
   "cell_type": "code",
   "execution_count": 6,
   "metadata": {},
   "outputs": [],
   "source": [
    "df = data_df_sorted.drop('PM2.5 - Local Conditions',1)\n",
    "df = df.dropna()"
   ]
  },
  {
   "cell_type": "markdown",
   "metadata": {},
   "source": [
    "drop datetime; no longer needed "
   ]
  },
  {
   "cell_type": "code",
   "execution_count": 7,
   "metadata": {},
   "outputs": [],
   "source": [
    "df = df.drop('datetime',1)\n"
   ]
  },
  {
   "cell_type": "markdown",
   "metadata": {},
   "source": [
    "select features "
   ]
  },
  {
   "cell_type": "code",
   "execution_count": 8,
   "metadata": {},
   "outputs": [],
   "source": [
    "feature_set = df.iloc[:,:15].values\n",
    "z1 = pd.DataFrame(feature_set)\n",
    "\n",
    "y1 = df.iloc[:,15:16].values\n",
    "z2 = pd.DataFrame(y1)"
   ]
  },
  {
   "cell_type": "code",
   "execution_count": 9,
   "metadata": {},
   "outputs": [],
   "source": [
    "from sklearn.model_selection import train_test_split\n",
    "from sklearn.linear_model import LinearRegression\n",
    "from sklearn.preprocessing import PolynomialFeatures\n",
    "from sklearn.tree import DecisionTreeRegressor\n",
    "from sklearn.ensemble import RandomForestRegressor\n",
    "from sklearn.svm import SVR\n"
   ]
  },
  {
   "cell_type": "code",
   "execution_count": 10,
   "metadata": {},
   "outputs": [],
   "source": [
    "x_train,x_test,y_train,y_test = train_test_split(feature_set,y1,test_size=0.25,random_state=0)"
   ]
  },
  {
   "cell_type": "code",
   "execution_count": 140,
   "metadata": {},
   "outputs": [],
   "source": [
    "from math import sqrt\n",
    "from sklearn import metrics\n",
    "\n",
    "def rmslog_error(real, predicted):\n",
    "    sum=0.0\n",
    "    for x in range(len(predicted)):\n",
    "        if predicted[x]<0 or real[x]<0:\n",
    "            continue\n",
    "        p = np.log(predicted[x]+1)\n",
    "        r = np.log(real[x]+1)\n",
    "        sum = sum + (p - r)**2\n",
    "    return ((sum/len(predicted))**0.5)[0]\n"
   ]
  },
  {
   "cell_type": "code",
   "execution_count": 139,
   "metadata": {},
   "outputs": [],
   "source": [
    "\n",
    "# multiple linear regression model\n",
    "mult_lin_reg = LinearRegression()\n",
    "mult_lin_reg.fit(x_train,y_train)\n",
    "\n",
    "mult_lin_reg_y_pred = mult_lin_reg.predict(x_test)\n",
    "\n",
    "rmse_mlr = sqrt(metrics.mean_squared_error(y_test, mult_lin_reg_y_pred))\n",
    "mae_mlr = metrics.mean_absolute_error(y_test, mult_lin_reg_y_pred)\n",
    "r2_mlr = metrics.r2_score(y_test,mult_lin_reg_y_pred)\n",
    "rmslog_error_mlr = rmslog_error(y_test,mult_lin_reg_y_pred)\n",
    "\n",
    "mlr_rmse = sqrt(metrics.mean_squared_error(y_train, mult_lin_reg.predict(x_train)))\n",
    "mlr_mae = metrics.mean_absolute_error(y_train, mult_lin_reg.predict(x_train))\n",
    "mlr_r2 = metrics.r2_score(y_train, mult_lin_reg.predict(x_train))\n",
    "m1 = mult_lin_reg.predict(x_train)\n",
    "mlr_rmslog_error = rmslog_error(y_train, m1)"
   ]
  },
  {
   "cell_type": "code",
   "execution_count": 138,
   "metadata": {},
   "outputs": [],
   "source": [
    "# polynomial regression model\n",
    "# degree = 2\n",
    "\n",
    "poly_reg = PolynomialFeatures(degree = 2)\n",
    "preg = LinearRegression()\n",
    "pf = poly_reg.fit_transform(x_train)\n",
    "preg.fit(pf,y_train)\n",
    "\n",
    "pr_y_predict = preg.predict(poly_reg.fit_transform(x_test))\n",
    "\n",
    "rmse_pr = sqrt(metrics.mean_squared_error(y_test, pr_y_predict))\n",
    "mae_pr = metrics.mean_absolute_error(y_test, pr_y_predict)\n",
    "r2_pr = metrics.r2_score(y_test,pr_y_predict)\n",
    "rmslog_error_pr = rmslog_error(y_test,pr_y_predict)\n",
    "\n",
    "pr_rmse = sqrt(metrics.mean_squared_error(y_train, preg.predict(poly_reg.fit_transform(x_train))))\n",
    "pr_mae = metrics.mean_absolute_error(y_train, preg.predict(poly_reg.fit_transform(x_train)))\n",
    "pr_r2 = metrics.r2_score(y_train, preg.predict(poly_reg.fit_transform(x_train)))\n",
    "pr_rmslog_error = rmslog_error(y_train, preg.predict(poly_reg.fit_transform(x_train)))"
   ]
  },
  {
   "cell_type": "code",
   "execution_count": 137,
   "metadata": {},
   "outputs": [],
   "source": [
    "#-----------------------------------------------\n",
    "# decision tree regression model\n",
    "\n",
    "dec_tree = DecisionTreeRegressor(random_state = 0)\n",
    "dec_tree.fit(x_train,y_train)\n",
    "\n",
    "dt_predict = dec_tree.predict(x_test)\n",
    "\n",
    "rmse_dt = sqrt(metrics.mean_squared_error(y_test, dt_predict))\n",
    "mae_dt = metrics.mean_absolute_error(y_test, dt_predict)\n",
    "r2_dt = metrics.r2_score(y_test,dt_predict)\n",
    "rmslog_error_dt = rmslog_error(y_test,dt_predict)\n",
    "\n",
    "dt_rmse = sqrt(metrics.mean_squared_error(y_train, dec_tree.predict(x_train)))\n",
    "dt_mae = metrics.mean_absolute_error(y_train, dec_tree.predict(x_train))\n",
    "dt_r2 = metrics.r2_score(y_train, dec_tree.predict(x_train))\n",
    "dt_rmslog_error = rmslog_error(y_train, dec_tree.predict(x_train))"
   ]
  },
  {
   "cell_type": "code",
   "execution_count": 136,
   "metadata": {},
   "outputs": [
    {
     "name": "stderr",
     "output_type": "stream",
     "text": [
      "/var/folders/86/7p6zt3rd1jz7gwd3wmbkzcw80000gn/T/ipykernel_17186/2852382963.py:4: DataConversionWarning: A column-vector y was passed when a 1d array was expected. Please change the shape of y to (n_samples,), for example using ravel().\n",
      "  rt_reg.fit(x_train,y_train)\n"
     ]
    }
   ],
   "source": [
    "\n",
    "# random forest regression model\n",
    "\n",
    "rf_reg = RandomForestRegressor(n_estimators = 500, random_state = 0)\n",
    "rf_reg.fit(x_train,y_train)\n",
    "rf_predict = rf_reg.predict(x_test)\n",
    "\n",
    "rmse_rf = sqrt(metrics.mean_squared_error(y_test, rf_predict))\n",
    "mae_rf = metrics.mean_absolute_error(y_test, rf_predict)\n",
    "r2_rf = metrics.r2_score(y_test,rf_predict)\n",
    "rmslog_error_rf = rmslog_error(y_test,rf_predict)\n",
    "\n",
    "rf_rmse = sqrt(metrics.mean_squared_error(y_train, rf_reg.predict(x_train)))\n",
    "rf_mae = metrics.mean_absolute_error(y_train, rf_reg.predict(x_train))\n",
    "rf_r2 = metrics.r2_score(y_train, rf_reg.predict(x_train))\n",
    "rf_rmslog_error = rmslog_error(y_train, rf_reg.predict(x_train))\n"
   ]
  },
  {
   "cell_type": "code",
   "execution_count": 141,
   "metadata": {},
   "outputs": [
    {
     "name": "stdout",
     "output_type": "stream",
     "text": [
      "training data:\n",
      "model\tR^2\tRMSE\tMAE\trmslog_error\n",
      "MLR\t0.8055\t0.0077\t0.0058\t0.0074\n",
      "PR\t0.89\t0.01\t0.004\t0.0055\n",
      "DTR\t1.0000\t0.0000\t0.0000\t0.0000\n",
      "RFR\t0.9899\t0.0018\t0.0012\t0.0017\n",
      "testing data:\n",
      "model\tR^2\tRMSE\tMAE\trmslog_error\n",
      "MLR\t0.8031\t0.0079\t0.0060\t0.0076\n",
      "PR\t0.88\t0.01\t0.005\t0.0058\n",
      "DTR\t0.8317\t0.0073\t0.0048\t0.0071\n",
      "RFR\t0.9282\t0.0048\t0.0033\t0.0046\n"
     ]
    }
   ],
   "source": [
    "\n",
    "print(\"training data:\")\n",
    "print(\"model\\tR^2\\tRMSE\\tMAE\\trmslog_error\")\n",
    "print(\"MLR\\t{0:.4f}\\t{1:.4f}\\t{2:.4f}\\t{3:.4f}\".format(mlr_r2,mlr_rmse,mlr_mae,mlr_rmslog_error))\n",
    "print(\"PR\\t{0:.2f}\\t{1:.2f}\\t{2:.3f}\\t{3:.4f}\".format(pr_r2,pr_rmse,pr_mae,pr_rmslog_error))\n",
    "print(\"DTR\\t{0:.4f}\\t{1:.4f}\\t{2:.4f}\\t{3:.4f}\".format(dt_r2,dt_rmse,dt_mae,dt_rmslog_error))\n",
    "print(\"RFR\\t{0:.4f}\\t{1:.4f}\\t{2:.4f}\\t{3:.4f}\".format(rf_r2,rf_rmse,rf_mae,rf_rmslog_error))\n",
    "\n",
    "print(\"testing data:\")\n",
    "print(\"model\\tR^2\\tRMSE\\tMAE\\trmslog_error\")\n",
    "print(\"MLR\\t{0:.4f}\\t{1:.4f}\\t{2:.4f}\\t{3:.4f}\".format(r2_mlr,rmse_mlr,mae_mlr,rmslog_error_mlr))\n",
    "print(\"PR\\t{0:.2f}\\t{1:.2f}\\t{2:.3f}\\t{3:.4f}\".format(r2_pr,rmse_pr,mae_pr,rmslog_error_pr))\n",
    "print(\"DTR\\t{0:.4f}\\t{1:.4f}\\t{2:.4f}\\t{3:.4f}\".format(r2_dt,rmse_dt,mae_dt,rmslog_error_dt))\n",
    "print(\"RFR\\t{0:.4f}\\t{1:.4f}\\t{2:.4f}\\t{3:.4f}\".format(r2_rt,rmse_rt,mae_rt,rmslog_error_rt))\n",
    "\n"
   ]
  },
  {
   "cell_type": "code",
   "execution_count": 148,
   "metadata": {},
   "outputs": [
    {
     "name": "stderr",
     "output_type": "stream",
     "text": [
      "/var/folders/86/7p6zt3rd1jz7gwd3wmbkzcw80000gn/T/ipykernel_17186/2992604870.py:5: DataConversionWarning: A column-vector y was passed when a 1d array was expected. Please change the shape of y to (n_samples,), for example using ravel().\n",
      "  rf_reg.fit(x_train,y_train)\n"
     ]
    }
   ],
   "source": [
    "from sklearn.feature_selection import SelectFromModel\n",
    "\n",
    "\n",
    "rf_reg = RandomForestRegressor(n_estimators = 500, random_state = 0)\n",
    "rf_reg.fit(x_train,y_train)\n",
    "rf_reg.feature_importances_\n",
    "rt_predict = rf_reg.predict(x_test)\n",
    "\n"
   ]
  },
  {
   "cell_type": "code",
   "execution_count": 149,
   "metadata": {},
   "outputs": [
    {
     "name": "stdout",
     "output_type": "stream",
     "text": [
      "[0.03775328 0.44517092 0.05956498 0.05021235 0.04120434 0.16291068\n",
      " 0.1260335  0.00473145 0.00868558 0.         0.         0.\n",
      " 0.01678341 0.01218229 0.03476721]\n"
     ]
    }
   ],
   "source": [
    "print(rf_reg.feature_importances_)"
   ]
  },
  {
   "cell_type": "code",
   "execution_count": 163,
   "metadata": {},
   "outputs": [
    {
     "data": {
      "image/png": "[encoded data removed]",
      "text/plain": [
       "<Figure size 864x576 with 1 Axes>"
      ]
     },
     "metadata": {
      "needs_background": "light"
     },
     "output_type": "display_data"
    }
   ],
   "source": [
    "import pandas as pd\n",
    "importances = rf_reg.feature_importances_\n",
    "feature_names = ['Carbon monoxide', 'Nitrogen dioxide (NO2)',\n",
    "       'Wind Direction - Resultant', 'Wind Speed - Resultant',\n",
    "       'Outdoor Temperature', 'Relative Humidity ', 'Solar radiation',\n",
    "       'Ultraviolet radiation', 'Barometric pressure', 'latitude', 'longitude',\n",
    "       'year', 'month', 'day', 'hour']\n",
    "\n",
    "forest_importances = pd.Series(importances, index=feature_names)\n",
    "std = np.std([tree.feature_importances_ for tree in rf_reg.estimators_], axis=0)\n",
    "\n",
    "fig, ax = plt.subplots()\n",
    "forest_importances.plot.bar(yerr=std, ax=ax)\n",
    "ax.set_title(\"Feature importances using MDI\")\n",
    "ax.set_ylabel(\"Mean decrease in impurity\")\n",
    "fig.tight_layout()"
   ]
  },
  {
   "cell_type": "code",
   "execution_count": 165,
   "metadata": {},
   "outputs": [
    {
     "name": "stdout",
     "output_type": "stream",
     "text": [
      "Feature Carbon monoxide has    3.78% of the decision-making importance.\n",
      "Feature Nitrogen dioxide (NO2) has   44.52% of the decision-making importance.\n",
      "Feature Wind Direction - Resultant has    5.96% of the decision-making importance.\n",
      "Feature Wind Speed - Resultant has    5.02% of the decision-making importance.\n",
      "Feature Outdoor Temperature has    4.12% of the decision-making importance.\n",
      "Feature Relative Humidity  has   16.29% of the decision-making importance.\n",
      "Feature Solar radiation has   12.60% of the decision-making importance.\n",
      "Feature Ultraviolet radiation has    0.47% of the decision-making importance.\n",
      "Feature Barometric pressure has    0.87% of the decision-making importance.\n",
      "Feature     latitude has    0.00% of the decision-making importance.\n",
      "Feature    longitude has    0.00% of the decision-making importance.\n",
      "Feature         year has    0.00% of the decision-making importance.\n",
      "Feature        month has    1.68% of the decision-making importance.\n",
      "Feature          day has    1.22% of the decision-making importance.\n",
      "Feature         hour has    3.48% of the decision-making importance.\n"
     ]
    }
   ],
   "source": [
    "# enumerate is great when you want indices _and_ elements!\n",
    "for i, importance in enumerate(forest_importances):\n",
    "    perc = importance*100\n",
    "    print(f\"Feature {feature_names[i]:>12s} has {perc:>7.2f}% of the decision-making importance.\")\n"
   ]
  },
  {
   "cell_type": "code",
   "execution_count": 164,
   "metadata": {},
   "outputs": [
    {
     "data": {
      "text/plain": [
       "<BarContainer object of 15 artists>"
      ]
     },
     "execution_count": 164,
     "metadata": {},
     "output_type": "execute_result"
    },
    {
     "data": {
      "image/png": "[encoded data removed]",
      "text/plain": [
       "<Figure size 864x576 with 1 Axes>"
      ]
     },
     "metadata": {
      "needs_background": "light"
     },
     "output_type": "display_data"
    }
   ],
   "source": [
    "from matplotlib import pyplot as plt\n",
    "plt.rcParams.update({'figure.figsize': (12.0, 8.0)})\n",
    "plt.rcParams.update({'font.size': 14})\n",
    "plt.barh(feature_names,importances)"
   ]
  }
 ],
 "metadata": {
  "interpreter": {
   "hash": "40d3a090f54c6569ab1632332b64b2c03c39dcf918b08424e98f38b5ae0af88f"
  },
  "kernelspec": {
   "display_name": "Python 3.8.3 ('base')",
   "language": "python",
   "name": "python3"
  },
  "language_info": {
   "codemirror_mode": {
    "name": "ipython",
    "version": 3
   },
   "file_extension": ".py",
   "mimetype": "text/x-python",
   "name": "python",
   "nbconvert_exporter": "python",
   "pygments_lexer": "ipython3",
   "version": "3.8.3"
  },
  "orig_nbformat": 4
 },
 "nbformat": 4,
 "nbformat_minor": 2
}
